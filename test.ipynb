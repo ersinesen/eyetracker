{
 "cells": [
  {
   "cell_type": "code",
   "execution_count": 1,
   "metadata": {
    "collapsed": true
   },
   "outputs": [],
   "source": [
    "// cant import opencvjs: use js arrays\n",
    "function tukeyWindow(N, alpha) {\n",
    "    var L = N+1;\n",
    "    let w = [];\n",
    "    for (var n=0; n < N/2; n++) {\n",
    "      if (n< (alpha*L/2))\n",
    "        w.push(0.5 * (1 - Math.cos(2*Math.PI*n/(alpha*L))) );\n",
    "      else\n",
    "        w.push(1);\n",
    "    }\n",
    "    for (n=0; n < N/2; n++) {\n",
    "      w.push(w[N/2-n-1]);\n",
    "    }\n",
    "    return w;\n",
    "}"
   ]
  },
  {
   "cell_type": "code",
   "execution_count": 2,
   "metadata": {},
   "outputs": [
    {
     "data": {
      "text/plain": [
       "[\n",
       "  0,\n",
       "  0.15742914251607792,\n",
       "  0.5305808304109213,\n",
       "  0.884475262669681,\n",
       "  1,\n",
       "  1,\n",
       "  0.884475262669681,\n",
       "  0.5305808304109213,\n",
       "  0.15742914251607792,\n",
       "  0\n",
       "]"
      ]
     },
     "execution_count": 2,
     "metadata": {},
     "output_type": "execute_result"
    }
   ],
   "source": [
    "w = tukeyWindow(10, 0.7)"
   ]
  },
  {
   "cell_type": "code",
   "execution_count": 3,
   "metadata": {
    "collapsed": true
   },
   "outputs": [],
   "source": [
    "function outerProduct(v1, v2) {\n",
    "    var x = new Array(v1.length);\n",
    "    for (var i = 0; i < x.length; i++) {\n",
    "      x[i] = new Array(v2.length);\n",
    "    }\n",
    "\n",
    "    for (var i=0; i<v1.length; i++) {\n",
    "        for (var j=0; j<v2.length; j++) {\n",
    "            x[i][j] = v1[i]*v2[j];\n",
    "        }\n",
    "    }\n",
    "    return x;\n",
    "}"
   ]
  },
  {
   "cell_type": "code",
   "execution_count": 4,
   "metadata": {},
   "outputs": [
    {
     "data": {
      "text/plain": [
       "[\n",
       "  [ 0, 0, 0, 0, 0, 0 ],\n",
       "  [\n",
       "    0,\n",
       "    0.21867000075295212,\n",
       "    0.5617752966715912,\n",
       "    0.5617752966715912,\n",
       "    0.21867000075295212,\n",
       "    0\n",
       "  ],\n",
       "  [\n",
       "    0,\n",
       "    0.21867000075295212,\n",
       "    0.5617752966715912,\n",
       "    0.5617752966715912,\n",
       "    0.21867000075295212,\n",
       "    0\n",
       "  ],\n",
       "  [ 0, 0, 0, 0, 0, 0 ]\n",
       "]"
      ]
     },
     "execution_count": 4,
     "metadata": {},
     "output_type": "execute_result"
    }
   ],
   "source": [
    "w1 = tukeyWindow(4, 0.7);\n",
    "w2 = tukeyWindow(6, 0.7);\n",
    "o = outerProduct(w1,w2);"
   ]
  },
  {
   "cell_type": "code",
   "execution_count": null,
   "metadata": {
    "collapsed": true
   },
   "outputs": [],
   "source": []
  },
  {
   "cell_type": "code",
   "execution_count": null,
   "metadata": {
    "collapsed": true
   },
   "outputs": [],
   "source": []
  }
 ],
 "metadata": {
  "kernelspec": {
   "display_name": "Javascript (Node.js)",
   "language": "javascript",
   "name": "javascript"
  },
  "language_info": {
   "file_extension": ".js",
   "mimetype": "application/javascript",
   "name": "javascript",
   "version": "13.6.0"
  }
 },
 "nbformat": 4,
 "nbformat_minor": 2
}
